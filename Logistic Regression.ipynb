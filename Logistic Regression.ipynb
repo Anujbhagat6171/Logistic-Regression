{
 "cells": [
  {
   "cell_type": "code",
   "execution_count": 27,
   "id": "898f570d",
   "metadata": {},
   "outputs": [],
   "source": [
    "import numpy as np\n",
    "import pandas as pd\n",
    "from sklearn import metrics\n",
    "import seaborn as sn\n",
    "import matplotlib.pyplot as plt\n",
    "from sklearn.model_selection import train_test_split\n",
    "from sklearn.linear_model import LogisticRegression"
   ]
  },
  {
   "cell_type": "code",
   "execution_count": 28,
   "id": "f15eb952",
   "metadata": {},
   "outputs": [],
   "source": [
    "candidates = {'gmat':\n",
    "[780,750,690,710,680,730,690,720,740,690,610,690,710,680,\n",
    "770,610,580,650,540,590,620,600,550,550,570,670,660,580,650,660,640,620,660,660,680,650,670,580,590,690], \n",
    "              'gpa':[4,3.9,3.3,3.7,3.9,3.7,2.3,3.3,3.3,1.7,2.7,3.7,3.7,3.3,3.3,3,2.7,3.7,2.7,2.3,3.3,2,2.3,2.7,3,3.3,3.7,2.3,3.7,3.3,3,2.7,4,3.3,3.3,2.3,2.7,3.3,1.7,3.7],\n",
    "              'Experience': [3,4,3,5,4,6,1,4,5,1,3,5,6,4,3,1,4,6,2,3,2,1,4,1,2,6,4,2,6,5,1,2,4,6,5,1,2,1,4,5],\n",
    "              'admitted': [1,1,0,1,0,1,0,1,1,0,0,1,1,0,1,0,0,1,0,0,1,0,0,0,0,1,1,0,1,1,0,0,1,1,1,0,0,0,0,1] }"
   ]
  },
  {
   "cell_type": "code",
   "execution_count": 29,
   "id": "2dc689e2",
   "metadata": {},
   "outputs": [],
   "source": [
    "df = pd.DataFrame(candidates,columns= ['gmat',\n",
    "'gpa', 'Experience', 'admitted'])\n",
    "df =df[~df.isin([np.nan, np.inf, -np.inf]).any(1)]"
   ]
  },
  {
   "cell_type": "code",
   "execution_count": 30,
   "id": "59651875",
   "metadata": {},
   "outputs": [
    {
     "name": "stdout",
     "output_type": "stream",
     "text": [
      "    gmat  gpa  Experience  admitted\n",
      "0    780  4.0           3         1\n",
      "1    750  3.9           4         1\n",
      "2    690  3.3           3         0\n",
      "3    710  3.7           5         1\n",
      "4    680  3.9           4         0\n",
      "5    730  3.7           6         1\n",
      "6    690  2.3           1         0\n",
      "7    720  3.3           4         1\n",
      "8    740  3.3           5         1\n",
      "9    690  1.7           1         0\n",
      "10   610  2.7           3         0\n",
      "11   690  3.7           5         1\n",
      "12   710  3.7           6         1\n",
      "13   680  3.3           4         0\n",
      "14   770  3.3           3         1\n",
      "15   610  3.0           1         0\n",
      "16   580  2.7           4         0\n",
      "17   650  3.7           6         1\n",
      "18   540  2.7           2         0\n",
      "19   590  2.3           3         0\n",
      "20   620  3.3           2         1\n",
      "21   600  2.0           1         0\n",
      "22   550  2.3           4         0\n",
      "23   550  2.7           1         0\n",
      "24   570  3.0           2         0\n",
      "25   670  3.3           6         1\n",
      "26   660  3.7           4         1\n",
      "27   580  2.3           2         0\n",
      "28   650  3.7           6         1\n",
      "29   660  3.3           5         1\n",
      "30   640  3.0           1         0\n",
      "31   620  2.7           2         0\n",
      "32   660  4.0           4         1\n",
      "33   660  3.3           6         1\n",
      "34   680  3.3           5         1\n",
      "35   650  2.3           1         0\n",
      "36   670  2.7           2         0\n",
      "37   580  3.3           1         0\n",
      "38   590  1.7           4         0\n",
      "39   690  3.7           5         1\n"
     ]
    }
   ],
   "source": [
    "print (df)"
   ]
  },
  {
   "cell_type": "code",
   "execution_count": 33,
   "id": "85702c9a",
   "metadata": {},
   "outputs": [],
   "source": [
    "X = df[['gmat', 'gpa','Experience']]\n",
    "y = df['admitted']"
   ]
  },
  {
   "cell_type": "code",
   "execution_count": 34,
   "id": "1a86b906",
   "metadata": {},
   "outputs": [],
   "source": [
    "X_train,X_test,y_train,y_test = train_test_split(X,y,test_size=0.25,random_state=0)"
   ]
  },
  {
   "cell_type": "code",
   "execution_count": 35,
   "id": "12e1d0e2",
   "metadata": {},
   "outputs": [
    {
     "data": {
      "text/plain": [
       "LogisticRegression()"
      ]
     },
     "execution_count": 35,
     "metadata": {},
     "output_type": "execute_result"
    }
   ],
   "source": [
    "logistic_regression= LogisticRegression()\n",
    "logistic_regression.fit(X_train,y_train)"
   ]
  },
  {
   "cell_type": "code",
   "execution_count": 43,
   "id": "e6f07db7",
   "metadata": {},
   "outputs": [],
   "source": [
    "y_pred=logistic_regression.predict(X_test)"
   ]
  },
  {
   "cell_type": "code",
   "execution_count": 38,
   "id": "3b0eec6b",
   "metadata": {},
   "outputs": [],
   "source": [
    "confusion_matrix = pd.crosstab(y_test, y_pred,\n",
    "rownames=['Actual'], colnames=['Pre dicted'])"
   ]
  },
  {
   "cell_type": "code",
   "execution_count": 39,
   "id": "35e4f3e6",
   "metadata": {},
   "outputs": [
    {
     "data": {
      "text/plain": [
       "<AxesSubplot:xlabel='Pre dicted', ylabel='Actual'>"
      ]
     },
     "execution_count": 39,
     "metadata": {},
     "output_type": "execute_result"
    },
    {
     "data": {
      "image/png": "[encoded data removed]",
      "text/plain": [
       "<Figure size 432x288 with 2 Axes>"
      ]
     },
     "metadata": {
      "needs_background": "light"
     },
     "output_type": "display_data"
    }
   ],
   "source": [
    "sn.heatmap(confusion_matrix, annot=True)"
   ]
  },
  {
   "cell_type": "code",
   "execution_count": 41,
   "id": "e6f773e0",
   "metadata": {},
   "outputs": [
    {
     "name": "stdout",
     "output_type": "stream",
     "text": [
      "Accuracy:  0.8\n"
     ]
    }
   ],
   "source": [
    "print('Accuracy: ',metrics.accuracy_score(y_test,y_pred))\n"
   ]
  },
  {
   "cell_type": "code",
   "execution_count": null,
   "id": "c4622726",
   "metadata": {},
   "outputs": [],
   "source": []
  }
 ],
 "metadata": {
  "kernelspec": {
   "display_name": "Python 3 (ipykernel)",
   "language": "python",
   "name": "python3"
  },
  "language_info": {
   "codemirror_mode": {
    "name": "ipython",
    "version": 3
   },
   "file_extension": ".py",
   "mimetype": "text/x-python",
   "name": "python",
   "nbconvert_exporter": "python",
   "pygments_lexer": "ipython3",
   "version": "3.9.12"
  }
 },
 "nbformat": 4,
 "nbformat_minor": 5
}
